{
 "cells": [
  {
   "cell_type": "markdown",
   "metadata": {},
   "source": [
    "# Implementing binary search of an array"
   ]
  },
  {
   "cell_type": "code",
   "execution_count": 1,
   "metadata": {
    "collapsed": true
   },
   "outputs": [],
   "source": [
    "# first 25 prime numbers\n",
    "primes = [2,3,5,7,11,13,17,19,23,29,31,37,41,43,47,53,\n",
    "          59,61,67,71,73,79,83,89,97]"
   ]
  },
  {
   "cell_type": "markdown",
   "metadata": {},
   "source": [
    "### How can we find how many primes are smaller than a given prime, e.g. 67"
   ]
  },
  {
   "cell_type": "code",
   "execution_count": 2,
   "metadata": {
    "collapsed": false
   },
   "outputs": [],
   "source": [
    "# linear search = looking through the numbers in order\n",
    "# binary search = more effective strategy"
   ]
  },
  {
   "cell_type": "markdown",
   "metadata": {},
   "source": [
    "<img src=\"images/primes1.png\">\n",
    "<img src=\"images/primes2.png\">\n",
    "<img src=\"images/primes3.png\">"
   ]
  },
  {
   "cell_type": "markdown",
   "metadata": {},
   "source": [
    "### Write a binary search function that takes an array and a target and returns the index in the array"
   ]
  },
  {
   "cell_type": "code",
   "execution_count": 18,
   "metadata": {
    "collapsed": false
   },
   "outputs": [],
   "source": [
    "def binary_search(input_array, target):\n",
    "    min_idx = 0\n",
    "    max_idx = len(input_array)-1\n",
    "    if target not in input_array:\n",
    "        return -1\n",
    "    else:\n",
    "        while min_idx <= max_idx:\n",
    "            guess_idx = int((max_idx + min_idx)//2)\n",
    "            if input_array[guess_idx] == target:\n",
    "                # done! return the index\n",
    "                final_idx = guess_idx\n",
    "                return final_idx\n",
    "            elif input_array[guess_idx] > target:\n",
    "                # guess is too high, reset the max_idx\n",
    "                max_idx = guess_idx - 1\n",
    "            elif input_array[guess_idx] < target:\n",
    "                # guess is too low, reset the\n",
    "                min_idx = guess_idx + 1        "
   ]
  },
  {
   "cell_type": "code",
   "execution_count": 19,
   "metadata": {
    "collapsed": false
   },
   "outputs": [
    {
     "data": {
      "text/plain": [
       "-1"
      ]
     },
     "execution_count": 19,
     "metadata": {},
     "output_type": "execute_result"
    }
   ],
   "source": [
    "# example: target is not in the input array\n",
    "binary_search(primes,68)"
   ]
  },
  {
   "cell_type": "code",
   "execution_count": 20,
   "metadata": {
    "collapsed": false
   },
   "outputs": [
    {
     "data": {
      "text/plain": [
       "18"
      ]
     },
     "execution_count": 20,
     "metadata": {},
     "output_type": "execute_result"
    }
   ],
   "source": [
    "# example: index of 67 (should return 18)\n",
    "binary_search(primes,67)"
   ]
  },
  {
   "cell_type": "markdown",
   "metadata": {},
   "source": [
    "### Time Complexity"
   ]
  },
  {
   "cell_type": "markdown",
   "metadata": {},
   "source": [
    "Every time we double the size of the array, we need at most one more guess. Suppose we need at most m mm guesses for an array of length n nn. Then, for an array of length 2n 2n2, n, the first guess cuts the reasonable portion of the array down to size n nn, and at most m mm guesses finish up, giving us a total of at most m+1 m+1m, plus, 1 guesses.\n",
    "Let's look at the general case of an array of length n nn. We can express the number of guesses, in the worst case, as \"the number of times we can repeatedly halve, starting at n nn, until we get the value 1, plus one.\" But that's inconvenient to write out. Fortunately, there's a mathematical function that means the same thing as the number of times we repeatedly halve, starting at n nn, until we get the value 1: the base-2 logarithm of n nn. We write it as \\lg n lgn. "
   ]
  },
  {
   "cell_type": "markdown",
   "metadata": {},
   "source": [
    "<img src=\"images/runtime_linear_vs_binary.png\">"
   ]
  }
 ],
 "metadata": {
  "kernelspec": {
   "display_name": "Python 2",
   "language": "python",
   "name": "python2"
  },
  "language_info": {
   "codemirror_mode": {
    "name": "ipython",
    "version": 2
   },
   "file_extension": ".py",
   "mimetype": "text/x-python",
   "name": "python",
   "nbconvert_exporter": "python",
   "pygments_lexer": "ipython2",
   "version": "2.7.12"
  }
 },
 "nbformat": 4,
 "nbformat_minor": 0
}
